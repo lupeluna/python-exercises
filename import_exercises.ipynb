{
 "cells": [
  {
   "cell_type": "code",
   "execution_count": null,
   "metadata": {},
   "outputs": [],
   "source": [
    "import function_exercise"
   ]
  },
  {
   "cell_type": "code",
   "execution_count": null,
   "metadata": {},
   "outputs": [],
   "source": [
    "function_exercise.is_vowel('B')"
   ]
  },
  {
   "cell_type": "code",
   "execution_count": null,
   "metadata": {},
   "outputs": [],
   "source": []
  },
  {
   "cell_type": "code",
   "execution_count": null,
   "metadata": {},
   "outputs": [],
   "source": [
    "from function_exercise import get_letter_grade as glg"
   ]
  },
  {
   "cell_type": "code",
   "execution_count": null,
   "metadata": {},
   "outputs": [],
   "source": [
    "glg(89)"
   ]
  },
  {
   "cell_type": "code",
   "execution_count": null,
   "metadata": {},
   "outputs": [],
   "source": []
  },
  {
   "cell_type": "code",
   "execution_count": null,
   "metadata": {},
   "outputs": [],
   "source": [
    "# 2. Read about and use the itertools module from the \n",
    "# python standard library to help you solve the following \n",
    "# problems:\n"
   ]
  },
  {
   "cell_type": "code",
   "execution_count": null,
   "metadata": {},
   "outputs": [],
   "source": [
    "# How many different ways can you combine the letters from \n",
    "#\"abc\" with the numbers 1, 2, and 3?\n",
    "\n",
    "from itertools import product\n",
    "print(len(list(product('abc', '123'))))"
   ]
  },
  {
   "cell_type": "code",
   "execution_count": null,
   "metadata": {},
   "outputs": [],
   "source": [
    "# Nine different combinations"
   ]
  },
  {
   "cell_type": "code",
   "execution_count": null,
   "metadata": {},
   "outputs": [],
   "source": []
  },
  {
   "cell_type": "code",
   "execution_count": null,
   "metadata": {},
   "outputs": [],
   "source": [
    "# How many different combinations are there of 2 letters from \n",
    "# \"abcd\"?"
   ]
  },
  {
   "cell_type": "code",
   "execution_count": null,
   "metadata": {},
   "outputs": [],
   "source": [
    "from itertools import combinations\n",
    "print(len(list(combinations('abcd', 2))))"
   ]
  },
  {
   "cell_type": "code",
   "execution_count": null,
   "metadata": {},
   "outputs": [],
   "source": []
  },
  {
   "cell_type": "code",
   "execution_count": null,
   "metadata": {},
   "outputs": [],
   "source": [
    "# How many different permutations are there of 2 letters from \n",
    "#\"abcd\"?"
   ]
  },
  {
   "cell_type": "code",
   "execution_count": null,
   "metadata": {},
   "outputs": [],
   "source": [
    "from itertools import permutations\n",
    "print(len(list(permutations('abcd', 2))))"
   ]
  },
  {
   "cell_type": "code",
   "execution_count": null,
   "metadata": {},
   "outputs": [],
   "source": []
  },
  {
   "cell_type": "code",
   "execution_count": null,
   "metadata": {},
   "outputs": [],
   "source": [
    "# Your code should produce a list of dictionaries. \n",
    "# Using this data, write some code that calculates and outputs \n",
    "#the following information:"
   ]
  },
  {
   "cell_type": "code",
   "execution_count": null,
   "metadata": {},
   "outputs": [],
   "source": [
    "# Total number of users"
   ]
  },
  {
   "cell_type": "code",
   "execution_count": 1,
   "metadata": {},
   "outputs": [],
   "source": [
    "import json"
   ]
  },
  {
   "cell_type": "code",
   "execution_count": 2,
   "metadata": {},
   "outputs": [],
   "source": [
    "profiles = json.load(open('profiles.json'))"
   ]
  },
  {
   "cell_type": "code",
   "execution_count": 3,
   "metadata": {},
   "outputs": [
    {
     "data": {
      "text/plain": [
       "19"
      ]
     },
     "execution_count": 3,
     "metadata": {},
     "output_type": "execute_result"
    }
   ],
   "source": [
    "# Total number of users\n",
    "len(profiles)\n",
    "\n",
    "# Returns 19"
   ]
  },
  {
   "cell_type": "code",
   "execution_count": null,
   "metadata": {},
   "outputs": [],
   "source": []
  },
  {
   "cell_type": "code",
   "execution_count": 4,
   "metadata": {},
   "outputs": [
    {
     "data": {
      "text/plain": [
       "9"
      ]
     },
     "execution_count": 4,
     "metadata": {},
     "output_type": "execute_result"
    }
   ],
   "source": [
    "# Number of active users\n",
    "\n",
    "len([user for user in profiles if user['isActive'] == True])\n",
    "\n",
    "# Returns 19"
   ]
  },
  {
   "cell_type": "code",
   "execution_count": null,
   "metadata": {},
   "outputs": [],
   "source": []
  },
  {
   "cell_type": "code",
   "execution_count": 5,
   "metadata": {},
   "outputs": [
    {
     "data": {
      "text/plain": [
       "10"
      ]
     },
     "execution_count": 5,
     "metadata": {},
     "output_type": "execute_result"
    }
   ],
   "source": [
    "#Number of inactive users\n",
    "\n",
    "len([user for user in profiles if not user['isActive'] == True])\n",
    "\n",
    "# Returns 10"
   ]
  },
  {
   "cell_type": "code",
   "execution_count": null,
   "metadata": {},
   "outputs": [],
   "source": []
  },
  {
   "cell_type": "code",
   "execution_count": 8,
   "metadata": {},
   "outputs": [],
   "source": [
    "p0 = profiles[0]['balance']"
   ]
  },
  {
   "cell_type": "code",
   "execution_count": 13,
   "metadata": {},
   "outputs": [
    {
     "data": {
      "text/plain": [
       "'2097.02'"
      ]
     },
     "execution_count": 13,
     "metadata": {},
     "output_type": "execute_result"
    }
   ],
   "source": [
    "p0.replace('$', '').replace(',', '')"
   ]
  },
  {
   "cell_type": "code",
   "execution_count": 10,
   "metadata": {},
   "outputs": [
    {
     "data": {
      "text/plain": [
       "2097.02"
      ]
     },
     "execution_count": 10,
     "metadata": {},
     "output_type": "execute_result"
    }
   ],
   "source": [
    "float(p0[1:].replace(',', ''))"
   ]
  },
  {
   "cell_type": "code",
   "execution_count": 14,
   "metadata": {},
   "outputs": [
    {
     "data": {
      "text/plain": [
       "52667.02"
      ]
     },
     "execution_count": 14,
     "metadata": {},
     "output_type": "execute_result"
    }
   ],
   "source": [
    "# Grand total of balances for all users\n",
    "\n",
    "bal_list = []\n",
    "\n",
    "for user in profiles:\n",
    "    bal_list.append(float(user['balance'][1:].replace(',', '')))\n",
    "sum(bal_list)\n",
    "\n",
    "# Returns 52667.02"
   ]
  },
  {
   "cell_type": "code",
   "execution_count": null,
   "metadata": {},
   "outputs": [],
   "source": []
  },
  {
   "cell_type": "code",
   "execution_count": 15,
   "metadata": {},
   "outputs": [
    {
     "data": {
      "text/plain": [
       "2771.9484210526316"
      ]
     },
     "execution_count": 15,
     "metadata": {},
     "output_type": "execute_result"
    }
   ],
   "source": [
    "# Average balance per user\n",
    "\n",
    "for user in profiles:\n",
    "    bal_list.append(float(user['balance'][1:].replace(',', '')))\n",
    "sum(bal_list) / len(bal_list)\n",
    "\n",
    "#Returns 2771.9484210526316"
   ]
  },
  {
   "cell_type": "code",
   "execution_count": null,
   "metadata": {},
   "outputs": [],
   "source": []
  },
  {
   "cell_type": "code",
   "execution_count": 16,
   "metadata": {},
   "outputs": [
    {
     "data": {
      "text/plain": [
       "[2097.02,\n",
       " 3654.02,\n",
       " 1536.02,\n",
       " 3919.64,\n",
       " 3681.39,\n",
       " 1694.42,\n",
       " 1214.1,\n",
       " 2930.31,\n",
       " 1944.15,\n",
       " 2839.22,\n",
       " 2467.31,\n",
       " 3304.99,\n",
       " 3844.42,\n",
       " 3594.99,\n",
       " 2940.24,\n",
       " 3062.41,\n",
       " 3067.82,\n",
       " 2646.76,\n",
       " 2227.79,\n",
       " 2097.02,\n",
       " 3654.02,\n",
       " 1536.02,\n",
       " 3919.64,\n",
       " 3681.39,\n",
       " 1694.42,\n",
       " 1214.1,\n",
       " 2930.31,\n",
       " 1944.15,\n",
       " 2839.22,\n",
       " 2467.31,\n",
       " 3304.99,\n",
       " 3844.42,\n",
       " 3594.99,\n",
       " 2940.24,\n",
       " 3062.41,\n",
       " 3067.82,\n",
       " 2646.76,\n",
       " 2227.79]"
      ]
     },
     "execution_count": 16,
     "metadata": {},
     "output_type": "execute_result"
    }
   ],
   "source": [
    "bal_list"
   ]
  },
  {
   "cell_type": "code",
   "execution_count": 20,
   "metadata": {},
   "outputs": [
    {
     "name": "stdout",
     "output_type": "stream",
     "text": [
      "{'_id': '54e23c3ed945981ba2580614', 'index': 18, 'guid': 'e608dc5c-fee4-4086-971b-3ebd37bfa137', 'isActive': True, 'balance': '$2,227.79', 'picture': 'http://placehold.it/32x32', 'age': 22, 'eyeColor': 'brown', 'name': 'Ewing Larson', 'gender': 'male', 'company': 'ESCENTA', 'email': 'ewinglarson@escenta.com', 'phone': '+1 (943) 439-3760', 'address': '136 Beard Street, Wattsville, New Hampshire, 2803', 'about': 'Veniam eiusmod exercitation culpa mollit reprehenderit ullamco voluptate voluptate irure qui duis anim et. Laborum dolor quis do voluptate. In pariatur dolor id mollit et enim. Qui ex qui in cillum irure enim non reprehenderit irure et excepteur aliquip eu eu.\\r\\n', 'registered': '2014-07-21T19:17:41 +05:00', 'latitude': 15.903555, 'longitude': -159.721203, 'tags': ['Lorem', 'magna', 'dolor', 'aliquip', 'reprehenderit', 'eu', 'voluptate'], 'friends': [{'id': 0, 'name': 'Suzette Huffman'}, {'id': 1, 'name': 'Paige Santiago'}, {'id': 2, 'name': 'Dollie Fernandez'}], 'greeting': 'Hello, Ewing Larson! You have 16 unread messages.', 'favoriteFruit': 'strawberry'}\n"
     ]
    }
   ],
   "source": [
    "# User with the lowest balance\n",
    "min(bal_list)\n",
    "\n",
    "min_user = {}\n",
    "\n",
    "for user in profiles:\n",
    "    if float(user['balance'][1:].replace(',', '')) > min(bal_list):\n",
    "        min_user = user\n",
    "print(min_user)\n",
    "\n",
    "# Ewing Larson "
   ]
  },
  {
   "cell_type": "code",
   "execution_count": 21,
   "metadata": {
    "scrolled": true
   },
   "outputs": [
    {
     "data": {
      "text/plain": [
       "{'_id': '54e23c3ed945981ba2580614',\n",
       " 'index': 18,\n",
       " 'guid': 'e608dc5c-fee4-4086-971b-3ebd37bfa137',\n",
       " 'isActive': True,\n",
       " 'balance': '$2,227.79',\n",
       " 'picture': 'http://placehold.it/32x32',\n",
       " 'age': 22,\n",
       " 'eyeColor': 'brown',\n",
       " 'name': 'Ewing Larson',\n",
       " 'gender': 'male',\n",
       " 'company': 'ESCENTA',\n",
       " 'email': 'ewinglarson@escenta.com',\n",
       " 'phone': '+1 (943) 439-3760',\n",
       " 'address': '136 Beard Street, Wattsville, New Hampshire, 2803',\n",
       " 'about': 'Veniam eiusmod exercitation culpa mollit reprehenderit ullamco voluptate voluptate irure qui duis anim et. Laborum dolor quis do voluptate. In pariatur dolor id mollit et enim. Qui ex qui in cillum irure enim non reprehenderit irure et excepteur aliquip eu eu.\\r\\n',\n",
       " 'registered': '2014-07-21T19:17:41 +05:00',\n",
       " 'latitude': 15.903555,\n",
       " 'longitude': -159.721203,\n",
       " 'tags': ['Lorem',\n",
       "  'magna',\n",
       "  'dolor',\n",
       "  'aliquip',\n",
       "  'reprehenderit',\n",
       "  'eu',\n",
       "  'voluptate'],\n",
       " 'friends': [{'id': 0, 'name': 'Suzette Huffman'},\n",
       "  {'id': 1, 'name': 'Paige Santiago'},\n",
       "  {'id': 2, 'name': 'Dollie Fernandez'}],\n",
       " 'greeting': 'Hello, Ewing Larson! You have 16 unread messages.',\n",
       " 'favoriteFruit': 'strawberry'}"
      ]
     },
     "execution_count": 21,
     "metadata": {},
     "output_type": "execute_result"
    }
   ],
   "source": [
    "min_user.update()"
   ]
  },
  {
   "cell_type": "code",
   "execution_count": null,
   "metadata": {},
   "outputs": [],
   "source": []
  },
  {
   "cell_type": "code",
   "execution_count": 25,
   "metadata": {},
   "outputs": [
    {
     "name": "stdout",
     "output_type": "stream",
     "text": [
      "User with maximum account balance: Fay Hammond\n"
     ]
    }
   ],
   "source": [
    "# User with the highest balance\n",
    "\n",
    "max_user = {}\n",
    "for accnt in profiles:\n",
    "    if float(accnt['balance'][1:].replace(',','')) == max(bal_list):\n",
    "        max_user = accnt['name']\n",
    "print(f'User with maximum account balance: {max_user}')\n",
    "\n",
    "# User with maximum account balance is Fay Hammond"
   ]
  },
  {
   "cell_type": "code",
   "execution_count": null,
   "metadata": {},
   "outputs": [],
   "source": []
  },
  {
   "cell_type": "code",
   "execution_count": 28,
   "metadata": {},
   "outputs": [
    {
     "ename": "IndexError",
     "evalue": "list index out of range",
     "output_type": "error",
     "traceback": [
      "\u001b[0;31m---------------------------------------------------------------------------\u001b[0m",
      "\u001b[0;31mIndexError\u001b[0m                                Traceback (most recent call last)",
      "\u001b[0;32m<ipython-input-28-0560900a6776>\u001b[0m in \u001b[0;36m<module>\u001b[0;34m\u001b[0m\n\u001b[1;32m     15\u001b[0m \u001b[0;34m\u001b[0m\u001b[0m\n\u001b[1;32m     16\u001b[0m \u001b[0mfruitcount_dict\u001b[0m \u001b[0;34m=\u001b[0m \u001b[0mfruit_counts\u001b[0m\u001b[0;34m(\u001b[0m\u001b[0mall_fruits\u001b[0m\u001b[0;34m)\u001b[0m\u001b[0;34m\u001b[0m\u001b[0;34m\u001b[0m\u001b[0m\n\u001b[0;32m---> 17\u001b[0;31m fave_fruit = [fruit for fruit in fruitcount_dict \\\n\u001b[0m\u001b[1;32m     18\u001b[0m     if fruitcount_dict[fruit] == max(fruitcount_dict.values())][0]\n\u001b[1;32m     19\u001b[0m \u001b[0mprint\u001b[0m\u001b[0;34m(\u001b[0m\u001b[0;34mf'Most popular fruit: {fave_fruit}'\u001b[0m\u001b[0;34m)\u001b[0m\u001b[0;34m\u001b[0m\u001b[0;34m\u001b[0m\u001b[0m\n",
      "\u001b[0;31mIndexError\u001b[0m: list index out of range"
     ]
    }
   ],
   "source": [
    "# Most common favorite fruit\n",
    "\n",
    "def fruit_counts(fruitlist):\n",
    "    '''\n",
    "    counts the number of each item in a list of strings and \n",
    "    returns a dictionary of the counts of each item\n",
    "    '''\n",
    "    fruit_counts = {}\n",
    "    for fruit in fruitlist:\n",
    "        if fruit not in fruit_counts.keys():\n",
    "            fruit_counts[fruit] = 1\n",
    "        else:\n",
    "            fruit_counts[fruit] = fruit_counts[fruit] + 1\n",
    "    return fruit_counts\n",
    "\n",
    "fruitcount_dict = fruit_counts(all_fruits)\n",
    "fave_fruit = [fruit for fruit in fruitcount_dict \\\n",
    "    if fruitcount_dict[fruit] == max(fruitcount_dict.values())][0]\n",
    "print(f'Most popular fruit: {fave_fruit}')\n",
    "\n"
   ]
  },
  {
   "cell_type": "code",
   "execution_count": null,
   "metadata": {},
   "outputs": [],
   "source": []
  },
  {
   "cell_type": "code",
   "execution_count": null,
   "metadata": {},
   "outputs": [],
   "source": []
  },
  {
   "cell_type": "code",
   "execution_count": 30,
   "metadata": {},
   "outputs": [],
   "source": [
    "# Least most common favorite fruit\n",
    "\n",
    "least_fave_fruit = ''\n",
    "for k, v in fruitcount_dict.items():\n",
    "    if v == min(fruitcount_dict.values()):\n",
    "        print('least favorite fruit: ',k)\n",
    "\n"
   ]
  },
  {
   "cell_type": "code",
   "execution_count": null,
   "metadata": {},
   "outputs": [],
   "source": []
  },
  {
   "cell_type": "code",
   "execution_count": null,
   "metadata": {},
   "outputs": [],
   "source": []
  },
  {
   "cell_type": "code",
   "execution_count": 31,
   "metadata": {},
   "outputs": [
    {
     "name": "stdout",
     "output_type": "stream",
     "text": [
      "Total unread messages: 210\n"
     ]
    }
   ],
   "source": [
    "# Total number of unread messages for all users\n",
    "\n",
    "list_comp_all_unreads = sum([int(''.join([val for val in accnt['greeting'] if val.isdigit()])) for accnt in profiles])\n",
    "# \n",
    "# breaking it down:\n",
    "# \n",
    "# single greeting value:\n",
    "profiles[0]['greeting']\n",
    "# pulling out the digits from that greeting into a list:\n",
    "digit_list = []\n",
    "for letter in profiles[0]['greeting']:\n",
    "    if letter.isdigit():\n",
    "        digit_list.append(letter)\n",
    "# this gives us a digit list that looks like ['4'] or like ['1','9'] -- we want a single int.\n",
    "# to join the list, we use the join string method\n",
    "digit_as_string = ''.join(digit_list)\n",
    "# finally we want to cast it to an integer data type\n",
    "digit = int(digit_as_string)\n",
    "# Now, we want to do this for every account in the profile\n",
    "list_of_unread_messages = []\n",
    "for accnt in profiles:\n",
    "    # do everything we just did for every dictionary referenced here as accnt\n",
    "    digit_list = []\n",
    "    for letter in accnt['greeting']:\n",
    "        if letter.isdigit():\n",
    "            digit_list.append(letter)\n",
    "    digit_as_string = ''.join(digit_list)\n",
    "    digit = int(digit_as_string)\n",
    "    list_of_unread_messages.append(digit)\n",
    "\n",
    "# and to get all unread messages, just call sum()\n",
    "all_unread_messages = sum(list_of_unread_messages)\n",
    "print(f'Total unread messages: {all_unread_messages}')"
   ]
  },
  {
   "cell_type": "code",
   "execution_count": null,
   "metadata": {},
   "outputs": [],
   "source": [
    "# Total unread messages is 20"
   ]
  },
  {
   "cell_type": "code",
   "execution_count": null,
   "metadata": {},
   "outputs": [],
   "source": []
  },
  {
   "cell_type": "code",
   "execution_count": null,
   "metadata": {},
   "outputs": [],
   "source": []
  }
 ],
 "metadata": {
  "kernelspec": {
   "display_name": "Python 3",
   "language": "python",
   "name": "python3"
  },
  "language_info": {
   "codemirror_mode": {
    "name": "ipython",
    "version": 3
   },
   "file_extension": ".py",
   "mimetype": "text/x-python",
   "name": "python",
   "nbconvert_exporter": "python",
   "pygments_lexer": "ipython3",
   "version": "3.8.5"
  }
 },
 "nbformat": 4,
 "nbformat_minor": 4
}
